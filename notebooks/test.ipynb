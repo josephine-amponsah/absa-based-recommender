{
 "cells": [
  {
   "cell_type": "code",
   "execution_count": 1,
   "metadata": {},
   "outputs": [],
   "source": [
    "import pandas as pd\n"
   ]
  },
  {
   "cell_type": "code",
   "execution_count": 1,
   "metadata": {},
   "outputs": [],
   "source": [
    "import nltk"
   ]
  },
  {
   "cell_type": "code",
   "execution_count": 3,
   "metadata": {},
   "outputs": [
    {
     "name": "stdout",
     "output_type": "stream",
     "text": [
      "showing info https://raw.githubusercontent.com/nltk/nltk_data/gh-pages/index.xml\n"
     ]
    },
    {
     "data": {
      "text/plain": [
       "True"
      ]
     },
     "execution_count": 3,
     "metadata": {},
     "output_type": "execute_result"
    }
   ],
   "source": [
    "nltk.download()"
   ]
  },
  {
   "cell_type": "code",
   "execution_count": 2,
   "metadata": {},
   "outputs": [],
   "source": [
    "from translate import Translator\n",
    "from requests.exceptions import ReadTimeout , ConnectTimeout\n",
    "\n",
    "def translate_to_english(sentences):\n",
    "    # translator = Translator()\n",
    "    english_comments = []\n",
    "\n",
    "    for sent in sentences:\n",
    "        try:\n",
    "            translator = Translator(to_lang=\"en\", from_lang=\"auto\")\n",
    "            # detected_language = translator.detect(sent)\n",
    "            if sent is None:\n",
    "                english_comments.append(None)  # Handle None translation result\n",
    "            # elif detected_language == 'en':\n",
    "            #     english_comments.append(sent)\n",
    "            else:\n",
    "                translated = translator.translate(sent)\n",
    "                english_comments.append(translated)\n",
    "        except (ReadTimeout, ConnectTimeout) as e:\n",
    "            # Handle timeout exceptions\n",
    "            print(f\"Translation timeout for sentence: {sent}\")\n",
    "            english_comments.append(None)  # Or handle as desired\n",
    "\n",
    "    return english_comments\n",
    "\n"
   ]
  },
  {
   "cell_type": "code",
   "execution_count": 3,
   "metadata": {},
   "outputs": [],
   "source": [
    "words = [\"je m'appelle Josephine\", \"gracias, amigo\", \"mi amor\", \"i love him\"]"
   ]
  },
  {
   "cell_type": "code",
   "execution_count": null,
   "metadata": {},
   "outputs": [],
   "source": [
    "words = [\"Albergo di basso livello. Una volta manca l'acqua calda una volta il wifi. c'era un solo lenzuolo, un solo asciugamano. 3 giorni per prendere la biancheria e alla fine l'ho tenuta sporca. Bagno.... sorvoliamo.\"]"
   ]
  },
  {
   "cell_type": "code",
   "execution_count": 4,
   "metadata": {},
   "outputs": [],
   "source": [
    "translate_to_english(words)"
   ]
  },
  {
   "cell_type": "code",
   "execution_count": 5,
   "metadata": {},
   "outputs": [],
   "source": [
    "# import translator as ts"
   ]
  },
  {
   "cell_type": "code",
   "execution_count": 6,
   "metadata": {},
   "outputs": [],
   "source": [
    "# from googletrans import Translator\n",
    "\n",
    "# translator = Translator()"
   ]
  },
  {
   "cell_type": "code",
   "execution_count": 7,
   "metadata": {},
   "outputs": [],
   "source": [
    "# new = []\n",
    "# for i in words:\n",
    "#     translation = translator.translate(i)\n",
    "#     new.append(translation.text)"
   ]
  },
  {
   "cell_type": "code",
   "execution_count": 8,
   "metadata": {},
   "outputs": [],
   "source": [
    "# new"
   ]
  },
  {
   "cell_type": "code",
   "execution_count": 9,
   "metadata": {},
   "outputs": [],
   "source": [
    "# with_emojis = [\"I love this 😍\", \"Tu malade\"]\n",
    "# check = []\n",
    "# for i in with_emojis:\n",
    "#     translation = translator.translate(i)\n",
    "#     check.append(translation.text)"
   ]
  },
  {
   "cell_type": "code",
   "execution_count": 10,
   "metadata": {},
   "outputs": [],
   "source": [
    "# check"
   ]
  },
  {
   "cell_type": "code",
   "execution_count": 11,
   "metadata": {},
   "outputs": [],
   "source": [
    "# ts.google(words[0],from_language= 'fr' ,to_language = 'en')"
   ]
  },
  {
   "cell_type": "code",
   "execution_count": 12,
   "metadata": {},
   "outputs": [],
   "source": [
    "tokenized_comment = ['I', 'am', 'excited', 'about', 'my', 'career', 'as', 'a', 'Data', 'Scientist']"
   ]
  },
  {
   "cell_type": "code",
   "execution_count": 13,
   "metadata": {},
   "outputs": [],
   "source": [
    "from nltk.corpus import stopwords"
   ]
  },
  {
   "cell_type": "code",
   "execution_count": 14,
   "metadata": {},
   "outputs": [],
   "source": [
    "stop = set(stopwords.words('english'))\n",
    "\n",
    "filtered_tokens = []\n",
    "\n",
    "for word in tokenized_comment:\n",
    "  if word not in stop:\n",
    "    filtered_tokens.append(word)"
   ]
  },
  {
   "cell_type": "code",
   "execution_count": 15,
   "metadata": {},
   "outputs": [
    {
     "data": {
      "text/plain": [
       "['I', 'excited', 'career', 'Data', 'Scientist']"
      ]
     },
     "execution_count": 15,
     "metadata": {},
     "output_type": "execute_result"
    }
   ],
   "source": [
    "filtered_tokens"
   ]
  },
  {
   "cell_type": "code",
   "execution_count": 16,
   "metadata": {},
   "outputs": [],
   "source": [
    "text = \" ]He loved her so much but she was still unhappy\""
   ]
  },
  {
   "cell_type": "code",
   "execution_count": 17,
   "metadata": {},
   "outputs": [],
   "source": [
    "from nltk.tokenize import word_tokenize\n",
    "tokenized_text = word_tokenize(text)"
   ]
  },
  {
   "cell_type": "code",
   "execution_count": 18,
   "metadata": {},
   "outputs": [
    {
     "data": {
      "text/plain": [
       "[']',\n",
       " 'He',\n",
       " 'loved',\n",
       " 'her',\n",
       " 'so',\n",
       " 'much',\n",
       " 'but',\n",
       " 'she',\n",
       " 'was',\n",
       " 'still',\n",
       " 'unhappy']"
      ]
     },
     "execution_count": 18,
     "metadata": {},
     "output_type": "execute_result"
    }
   ],
   "source": [
    "tokenized_text"
   ]
  },
  {
   "cell_type": "code",
   "execution_count": 19,
   "metadata": {},
   "outputs": [],
   "source": [
    "filtered_text = []\n",
    "stop = set(stopwords.words('english'))\n",
    "for word in tokenized_text:\n",
    "  if word not in stop:\n",
    "    filtered_text.append(word)"
   ]
  },
  {
   "cell_type": "code",
   "execution_count": 20,
   "metadata": {},
   "outputs": [
    {
     "data": {
      "text/plain": [
       "[']', 'He', 'loved', 'much', 'still', 'unhappy']"
      ]
     },
     "execution_count": 20,
     "metadata": {},
     "output_type": "execute_result"
    }
   ],
   "source": [
    "filtered_text"
   ]
  },
  {
   "cell_type": "code",
   "execution_count": 21,
   "metadata": {},
   "outputs": [
    {
     "data": {
      "text/plain": [
       "['I', 'excited', 'career', 'Data', 'Scientist']"
      ]
     },
     "execution_count": 21,
     "metadata": {},
     "output_type": "execute_result"
    }
   ],
   "source": [
    "filtered_tokens"
   ]
  },
  {
   "cell_type": "code",
   "execution_count": 22,
   "metadata": {},
   "outputs": [],
   "source": [
    "from nltk.stem.porter import PorterStemmer\n",
    "words = ['completed', 'dances', 'developer', 'sharing', 'cried','accepts',\\\n",
    "'assisting']\n",
    "stemmer = PorterStemmer()\n",
    "stems = [stemmer.stem(word) for word in filtered_tokens]"
   ]
  },
  {
   "cell_type": "code",
   "execution_count": 23,
   "metadata": {},
   "outputs": [
    {
     "data": {
      "text/plain": [
       "['i', 'excit', 'career', 'data', 'scientist']"
      ]
     },
     "execution_count": 23,
     "metadata": {},
     "output_type": "execute_result"
    }
   ],
   "source": [
    "stems"
   ]
  },
  {
   "cell_type": "code",
   "execution_count": 24,
   "metadata": {},
   "outputs": [
    {
     "name": "stderr",
     "output_type": "stream",
     "text": [
      "[nltk_data] Error loading tagsets: <urlopen error [SSL:\n",
      "[nltk_data]     CERTIFICATE_VERIFY_FAILED] certificate verify failed:\n",
      "[nltk_data]     unable to get local issuer certificate (_ssl.c:1129)>\n"
     ]
    },
    {
     "data": {
      "text/plain": [
       "False"
      ]
     },
     "execution_count": 24,
     "metadata": {},
     "output_type": "execute_result"
    }
   ],
   "source": [
    "import nltk\n",
    "nltk.download('tagsets')"
   ]
  },
  {
   "cell_type": "code",
   "execution_count": 39,
   "metadata": {},
   "outputs": [],
   "source": [
    "from textblob import TextBlob\n",
    "data = TextBlob(\"I have the best family in the world\")\n",
    "tags = data.tags"
   ]
  },
  {
   "cell_type": "code",
   "execution_count": 40,
   "metadata": {},
   "outputs": [],
   "source": [
    "nouns =[]\n",
    "for word, tag in tags:\n",
    "    if tag == 'NN':\n",
    "        nouns.append(word)"
   ]
  },
  {
   "cell_type": "code",
   "execution_count": 41,
   "metadata": {},
   "outputs": [
    {
     "data": {
      "text/plain": [
       "['family', 'world']"
      ]
     },
     "execution_count": 41,
     "metadata": {},
     "output_type": "execute_result"
    }
   ],
   "source": [
    "nouns"
   ]
  },
  {
   "cell_type": "code",
   "execution_count": 25,
   "metadata": {},
   "outputs": [],
   "source": [
    "def remove_stopwords(tokens):\n",
    "    filtered =[]\n",
    "    for word in tokens:\n",
    "      if word not in stop:\n",
    "        filtered.append(word)\n",
    "    \n",
    "    return filtered"
   ]
  },
  {
   "cell_type": "code",
   "execution_count": 26,
   "metadata": {},
   "outputs": [],
   "source": [
    "data = [\"Natural Language Processing is a very useful machine learning technique\", \n",
    "        \"Learning machine learning concepts can be very confusing as an aspiring Data Scientist\",\n",
    "        \"Data Scientists are doing magic with Natural Language Processing\",\n",
    "        \"It's been fun exploring the world of Artificial Intelligence and Machine Learning\"\n",
    "        ]\n",
    "def preprocess(sent_list):\n",
    "    sentences = []\n",
    "    for sent in data:\n",
    "        line = word_tokenize(sent)\n",
    "        new_line = remove_stopwords(line)\n",
    "        new_sent = \" \".join(new_line)\n",
    "        sentences.append(new_sent)\n",
    "    return sentences"
   ]
  },
  {
   "cell_type": "code",
   "execution_count": 27,
   "metadata": {},
   "outputs": [],
   "source": [
    "processed_data = preprocess(data)"
   ]
  },
  {
   "cell_type": "code",
   "execution_count": 28,
   "metadata": {},
   "outputs": [
    {
     "data": {
      "text/plain": [
       "['Natural Language Processing useful machine learning technique',\n",
       " 'Learning machine learning concepts confusing aspiring Data Scientist',\n",
       " 'Data Scientists magic Natural Language Processing',\n",
       " \"It 's fun exploring world Artificial Intelligence Machine Learning\"]"
      ]
     },
     "execution_count": 28,
     "metadata": {},
     "output_type": "execute_result"
    }
   ],
   "source": [
    "processed_data"
   ]
  },
  {
   "cell_type": "code",
   "execution_count": 29,
   "metadata": {},
   "outputs": [],
   "source": [
    "from sklearn.feature_extraction.text import CountVectorizer\n",
    "# create an instance of the vectorizer\n",
    "vectorizer = CountVectorizer()\n",
    "# run model on preprocessed corpus\n",
    "cv_matrix = vectorizer.fit_transform(processed_data)\n",
    "# #view vocabulary\n",
    "# vocab = vectorizer.get_feature_names()\n",
    "#view matrix\n",
    "matrix = cv_matrix.toarray()"
   ]
  },
  {
   "cell_type": "code",
   "execution_count": 30,
   "metadata": {},
   "outputs": [
    {
     "data": {
      "text/plain": [
       "array([[0, 0, 0, 0, 0, 0, 0, 0, 0, 1, 1, 1, 0, 1, 1, 0, 0, 1, 1, 0],\n",
       "       [0, 1, 1, 1, 1, 0, 0, 0, 0, 0, 2, 1, 0, 0, 0, 1, 0, 0, 0, 0],\n",
       "       [0, 0, 0, 0, 1, 0, 0, 0, 0, 1, 0, 0, 1, 1, 1, 0, 1, 0, 0, 0],\n",
       "       [1, 0, 0, 0, 0, 1, 1, 1, 1, 0, 1, 1, 0, 0, 0, 0, 0, 0, 0, 1]])"
      ]
     },
     "execution_count": 30,
     "metadata": {},
     "output_type": "execute_result"
    }
   ],
   "source": [
    "matrix"
   ]
  },
  {
   "cell_type": "code",
   "execution_count": 31,
   "metadata": {},
   "outputs": [
    {
     "data": {
      "text/plain": [
       "array(['artificial', 'aspiring', 'concepts', 'confusing', 'data',\n",
       "       'exploring', 'fun', 'intelligence', 'it', 'language', 'learning',\n",
       "       'machine', 'magic', 'natural', 'processing', 'scientist',\n",
       "       'scientists', 'technique', 'useful', 'world'], dtype=object)"
      ]
     },
     "execution_count": 31,
     "metadata": {},
     "output_type": "execute_result"
    }
   ],
   "source": [
    "vectorizer.get_feature_names_out()"
   ]
  },
  {
   "cell_type": "code",
   "execution_count": 32,
   "metadata": {},
   "outputs": [],
   "source": [
    "from sklearn.feature_extraction.text import TfidfVectorizer\n",
    "\n",
    "tfidf_vect = TfidfVectorizer()\n",
    "\n",
    "tf_idf_matrix = tfidf_vect.fit_transform(processed_data)"
   ]
  },
  {
   "cell_type": "code",
   "execution_count": 33,
   "metadata": {},
   "outputs": [],
   "source": [
    "tfidf_matrix = tf_idf_matrix.toarray()"
   ]
  },
  {
   "cell_type": "code",
   "execution_count": 34,
   "metadata": {},
   "outputs": [
    {
     "data": {
      "text/plain": [
       "array([[0.        , 0.        , 0.        , 0.        , 0.        ,\n",
       "        0.        , 0.        , 0.        , 0.        , 0.36445896,\n",
       "        0.29506094, 0.29506094, 0.        , 0.36445896, 0.36445896,\n",
       "        0.        , 0.        , 0.46226998, 0.46226998, 0.        ],\n",
       "       [0.        , 0.38753157, 0.38753157, 0.38753157, 0.30553434,\n",
       "        0.        , 0.        , 0.        , 0.        , 0.        ,\n",
       "        0.49471276, 0.24735638, 0.        , 0.        , 0.        ,\n",
       "        0.38753157, 0.        , 0.        , 0.        , 0.        ],\n",
       "       [0.        , 0.        , 0.        , 0.        , 0.37222485,\n",
       "        0.        , 0.        , 0.        , 0.        , 0.37222485,\n",
       "        0.        , 0.        , 0.47212003, 0.37222485, 0.37222485,\n",
       "        0.        , 0.47212003, 0.        , 0.        , 0.        ],\n",
       "       [0.38306527, 0.        , 0.        , 0.        , 0.        ,\n",
       "        0.38306527, 0.38306527, 0.38306527, 0.38306527, 0.        ,\n",
       "        0.2445056 , 0.2445056 , 0.        , 0.        , 0.        ,\n",
       "        0.        , 0.        , 0.        , 0.        , 0.38306527]])"
      ]
     },
     "execution_count": 34,
     "metadata": {},
     "output_type": "execute_result"
    }
   ],
   "source": [
    "tfidf_matrix"
   ]
  },
  {
   "cell_type": "code",
   "execution_count": 35,
   "metadata": {},
   "outputs": [],
   "source": [
    "input =[]\n",
    "for sent in processed_data:\n",
    "  sent_token = word_tokenize(sent)\n",
    "  input.append(sent_token)\n",
    "  \n",
    "# word2vec with pretrained models\n",
    "import gensim\n",
    "from gensim.models import Word2Vec\n",
    "\n",
    "# train model on part of corpus\n",
    "model = Word2Vec(input, min_count = 2)\n",
    "\n",
    "# retrieving the vector of a token\n",
    "# token_vector = model.wv[token]"
   ]
  },
  {
   "cell_type": "code",
   "execution_count": 36,
   "metadata": {},
   "outputs": [
    {
     "data": {
      "text/plain": [
       "['Data',\n",
       " 'Learning',\n",
       " 'learning',\n",
       " 'machine',\n",
       " 'Processing',\n",
       " 'Language',\n",
       " 'Natural']"
      ]
     },
     "execution_count": 36,
     "metadata": {},
     "output_type": "execute_result"
    }
   ],
   "source": [
    "vocab = list(model.wv.key_to_index.keys())\n",
    "vocab"
   ]
  },
  {
   "cell_type": "code",
   "execution_count": 37,
   "metadata": {},
   "outputs": [],
   "source": [
    "vectors = model.wv.vectors"
   ]
  },
  {
   "cell_type": "code",
   "execution_count": 38,
   "metadata": {},
   "outputs": [
    {
     "data": {
      "text/plain": [
       "array([[-5.36227250e-04,  2.36431355e-04,  5.10334969e-03,\n",
       "         9.00927279e-03, -9.30294953e-03, -7.11680902e-03,\n",
       "         6.45887246e-03,  8.97298846e-03, -5.01542818e-03,\n",
       "        -3.76337161e-03,  7.38050463e-03, -1.53347140e-03,\n",
       "        -4.53661336e-03,  6.55405177e-03, -4.86016041e-03,\n",
       "        -1.81601767e-03,  2.87657976e-03,  9.91873792e-04,\n",
       "        -8.28521512e-03, -9.44881793e-03,  7.31176604e-03,\n",
       "         5.07026212e-03,  6.75769337e-03,  7.62865529e-04,\n",
       "         6.35089027e-03, -3.40536586e-03, -9.46401386e-04,\n",
       "         5.76857338e-03, -7.52163772e-03, -3.93610355e-03,\n",
       "        -7.51158223e-03, -9.30042239e-04,  9.53811873e-03,\n",
       "        -7.31916679e-03, -2.33376864e-03, -1.93774106e-03,\n",
       "         8.07743706e-03, -5.93089592e-03,  4.51624401e-05,\n",
       "        -4.75373399e-03, -9.60355066e-03,  5.00729308e-03,\n",
       "        -8.75958521e-03, -4.39182529e-03, -3.50999835e-05,\n",
       "        -2.96181446e-04, -7.66124018e-03,  9.61474329e-03,\n",
       "         4.98205796e-03,  9.23314318e-03, -8.15791730e-03,\n",
       "         4.49579814e-03, -4.13707597e-03,  8.24536080e-04,\n",
       "         8.49862024e-03, -4.46217647e-03,  4.51750029e-03,\n",
       "        -6.78696018e-03, -3.54848872e-03,  9.39850789e-03,\n",
       "        -1.57765264e-03,  3.21371568e-04, -4.14062990e-03,\n",
       "        -7.68268807e-03, -1.50800822e-03,  2.46979482e-03,\n",
       "        -8.88026960e-04,  5.53366169e-03, -2.74297711e-03,\n",
       "         2.26006517e-03,  5.45579428e-03,  8.34595319e-03,\n",
       "        -1.45374064e-03, -9.20814276e-03,  4.37055249e-03,\n",
       "         5.71784971e-04,  7.44190812e-03, -8.13282735e-04,\n",
       "        -2.63841380e-03, -8.75300914e-03, -8.56556871e-04,\n",
       "         2.82656308e-03,  5.40142879e-03,  7.05265626e-03,\n",
       "        -5.70312142e-03,  1.85881974e-03,  6.08886359e-03,\n",
       "        -4.79805097e-03, -3.10726045e-03,  6.79762941e-03,\n",
       "         1.63147564e-03,  1.89917089e-04,  3.47363716e-03,\n",
       "         2.17777488e-04,  9.61882621e-03,  5.06060384e-03,\n",
       "        -8.91739037e-03, -7.04156049e-03,  9.01455875e-04,\n",
       "         6.39253389e-03],\n",
       "       [-8.61968752e-03,  3.66573804e-03,  5.18988352e-03,\n",
       "         5.74193848e-03,  7.46691832e-03, -6.16767537e-03,\n",
       "         1.10561366e-03,  6.04728237e-03, -2.84005050e-03,\n",
       "        -6.17352268e-03, -4.10223001e-04, -8.36894847e-03,\n",
       "        -5.60001237e-03,  7.10453885e-03,  3.35253961e-03,\n",
       "         7.22566945e-03,  6.80024736e-03,  7.53074186e-03,\n",
       "        -3.78915435e-03, -5.61805966e-04,  2.34837644e-03,\n",
       "        -4.51903231e-03,  8.38873163e-03, -9.85816400e-03,\n",
       "         6.76464103e-03,  2.91441684e-03, -4.93283151e-03,\n",
       "         4.39818762e-03, -1.73957471e-03,  6.71138428e-03,\n",
       "         9.96484980e-03, -4.36244346e-03, -5.99337800e-04,\n",
       "        -5.69563732e-03,  3.85082234e-03,  2.78662681e-03,\n",
       "         6.89107645e-03,  6.10109558e-03,  9.53849684e-03,\n",
       "         9.27341729e-03,  7.89806806e-03, -6.98950421e-03,\n",
       "        -9.15586483e-03, -3.55752709e-04, -3.09984083e-03,\n",
       "         7.89431669e-03,  5.93857421e-03, -1.54566288e-03,\n",
       "         1.51096343e-03,  1.79004075e-03,  7.81757105e-03,\n",
       "        -9.51018650e-03, -2.05531120e-04,  3.46919661e-03,\n",
       "        -9.38972225e-04,  8.38177186e-03,  9.01078340e-03,\n",
       "         6.53650658e-03, -7.11621018e-04,  7.71040423e-03,\n",
       "        -8.53433460e-03,  3.20710661e-03, -4.63799713e-03,\n",
       "        -5.08895516e-03,  3.58961825e-03,  5.37033938e-03,\n",
       "         7.76951434e-03, -5.76650631e-03,  7.43336091e-03,\n",
       "         6.62549632e-03, -3.70980031e-03, -8.74564145e-03,\n",
       "         5.43746725e-03,  6.50975574e-03, -7.87550234e-04,\n",
       "        -6.70985598e-03, -7.08592543e-03, -2.49706022e-03,\n",
       "         5.14325360e-03, -3.66523745e-03, -9.37005971e-03,\n",
       "         3.82673973e-03,  4.88447910e-03, -6.42856350e-03,\n",
       "         1.20855810e-03, -2.07487703e-03,  2.44033345e-05,\n",
       "        -9.88350902e-03,  2.69200443e-03, -4.75010648e-03,\n",
       "         1.08764647e-03, -1.57622457e-03,  2.19667307e-03,\n",
       "        -7.88157620e-03, -2.71718390e-03,  2.66319863e-03,\n",
       "         5.34668192e-03, -2.39151483e-03, -9.51009430e-03,\n",
       "         4.50587878e-03],\n",
       "       [ 9.45639622e-05,  3.07731982e-03, -6.81264512e-03,\n",
       "        -1.37546542e-03,  7.66858086e-03,  7.34640937e-03,\n",
       "        -3.67329712e-03,  2.64270185e-03, -8.31712969e-03,\n",
       "         6.20548613e-03, -4.63732239e-03, -3.16410651e-03,\n",
       "         9.31135658e-03,  8.73385696e-04,  7.49070290e-03,\n",
       "        -6.07406255e-03,  5.16050681e-03,  9.92282294e-03,\n",
       "        -8.45739152e-03, -5.13569126e-03, -7.06483703e-03,\n",
       "        -4.86265169e-03, -3.77856381e-03, -8.53619911e-03,\n",
       "         7.95560610e-03, -4.84393816e-03,  8.42361338e-03,\n",
       "         5.26257046e-03, -6.55002613e-03,  3.95787135e-03,\n",
       "         5.47014968e-03, -7.42653618e-03, -7.40571972e-03,\n",
       "        -2.47523072e-03, -8.62572528e-03, -1.58157235e-03,\n",
       "        -4.03432845e-04,  3.29968450e-03,  1.44188048e-03,\n",
       "        -8.81421554e-04, -5.59405796e-03,  1.73036580e-03,\n",
       "        -8.97371792e-04,  6.79369085e-03,  3.97359021e-03,\n",
       "         4.52947151e-03,  1.43430592e-03, -2.69985548e-03,\n",
       "        -4.36681276e-03, -1.03207468e-03,  1.43702747e-03,\n",
       "        -2.64600874e-03, -7.07378285e-03, -7.80530693e-03,\n",
       "        -9.12178680e-03, -5.93516929e-03, -1.84742454e-03,\n",
       "        -4.32387134e-03, -6.46067038e-03, -3.71732237e-03,\n",
       "         4.28915862e-03, -3.73904337e-03,  8.37817509e-03,\n",
       "         1.53399352e-03, -7.24231964e-03,  9.43379849e-03,\n",
       "         7.63121247e-03,  5.49328187e-03, -6.84884563e-03,\n",
       "         5.82267903e-03,  4.00909316e-03,  5.18536940e-03,\n",
       "         4.25590156e-03,  1.93975447e-03, -3.17016244e-03,\n",
       "         8.35384522e-03,  9.61218029e-03,  3.79260303e-03,\n",
       "        -2.83699506e-03,  7.12752353e-06,  1.21881848e-03,\n",
       "        -8.45832471e-03, -8.22394527e-03, -2.31015685e-04,\n",
       "         1.23728754e-03, -5.74338064e-03, -4.72527370e-03,\n",
       "        -7.34607456e-03,  8.32861569e-03,  1.21297839e-04,\n",
       "        -4.50939871e-03,  5.70170535e-03,  9.18001495e-03,\n",
       "        -4.09987196e-03,  7.96468183e-03,  5.37543418e-03,\n",
       "         5.87912323e-03,  5.12590399e-04,  8.21308419e-03,\n",
       "        -7.01904064e-03],\n",
       "       [-8.24267790e-03,  9.29935463e-03, -1.97660920e-04,\n",
       "        -1.96727645e-03,  4.60363040e-03, -4.09531593e-03,\n",
       "         2.74311425e-03,  6.93996670e-03,  6.06542593e-03,\n",
       "        -7.51079433e-03,  9.38235037e-03,  4.67180833e-03,\n",
       "         3.96612054e-03, -6.24350552e-03,  8.45997967e-03,\n",
       "        -2.15016492e-03,  8.82518757e-03, -5.36200264e-03,\n",
       "        -8.12941883e-03,  6.82455907e-03,  1.67119270e-03,\n",
       "        -2.19850894e-03,  9.51360073e-03,  9.49385483e-03,\n",
       "        -9.77404695e-03,  2.50522862e-03,  6.15669228e-03,\n",
       "         3.87245649e-03,  2.02278723e-03,  4.30501706e-04,\n",
       "         6.73631439e-04, -3.82063631e-03, -7.14025041e-03,\n",
       "        -2.08887225e-03,  3.92389763e-03,  8.81868321e-03,\n",
       "         9.25915036e-03, -5.97593654e-03, -9.40267090e-03,\n",
       "         9.76437703e-03,  3.42978467e-03,  5.16611710e-03,\n",
       "         6.28234493e-03, -2.80426256e-03,  7.32270349e-03,\n",
       "         2.83027161e-03,  2.87100440e-03, -2.38036993e-03,\n",
       "        -3.12824966e-03, -2.37014168e-03,  4.27643675e-03,\n",
       "         7.60579132e-05, -9.58427880e-03, -9.66554414e-03,\n",
       "        -6.14819396e-03, -1.28569605e-04,  1.99741591e-03,\n",
       "         9.43196751e-03,  5.58435079e-03, -4.29069623e-03,\n",
       "         2.78316729e-04,  4.96435864e-03,  7.69830961e-03,\n",
       "        -1.14422326e-03,  4.32342058e-03, -5.81437955e-03,\n",
       "        -8.04190640e-04,  8.10005050e-03, -2.36006500e-03,\n",
       "        -9.66345519e-03,  5.77926030e-03, -3.92982224e-03,\n",
       "        -1.22287276e-03,  9.98051744e-03, -2.25635059e-03,\n",
       "        -4.75706439e-03, -5.32938726e-03,  6.98088994e-03,\n",
       "        -5.70887187e-03,  2.11366289e-03, -5.25566004e-03,\n",
       "         6.12071389e-03,  4.35730675e-03,  2.60635489e-03,\n",
       "        -1.49108295e-03, -2.74606352e-03,  8.99293646e-03,\n",
       "         5.21577476e-03, -2.16251961e-03, -9.47031006e-03,\n",
       "        -7.42605189e-03, -1.06374139e-03, -7.94947147e-04,\n",
       "        -2.56290915e-03,  9.68272053e-03, -4.58520663e-04,\n",
       "         5.87376114e-03, -7.44758733e-03, -2.50607380e-03,\n",
       "        -5.54986345e-03],\n",
       "       [-7.13901501e-03,  1.24103064e-03, -7.17671635e-03,\n",
       "        -2.24461802e-03,  3.71930352e-03,  5.83312381e-03,\n",
       "         1.19818328e-03,  2.10273149e-03, -4.11039125e-03,\n",
       "         7.22533325e-03, -6.30704174e-03,  4.64721583e-03,\n",
       "        -8.21997318e-03,  2.03646789e-03, -4.97705210e-03,\n",
       "        -4.24768822e-03, -3.10898433e-03,  5.65520860e-03,\n",
       "         5.79840085e-03, -4.97464882e-03,  7.73330918e-04,\n",
       "        -8.49577785e-03,  7.80980568e-03,  9.25729144e-03,\n",
       "        -2.74232752e-03,  8.00223323e-04,  7.46651902e-04,\n",
       "         5.47788478e-03, -8.60607903e-03,  5.84455731e-04,\n",
       "         6.86942227e-03,  2.23159441e-03,  1.12467643e-03,\n",
       "        -9.32215527e-03,  8.48236680e-03, -6.26412733e-03,\n",
       "        -2.99237366e-03,  3.49378702e-03, -7.72627594e-04,\n",
       "         1.41129130e-03,  1.78199168e-03, -6.82889950e-03,\n",
       "        -9.72481165e-03,  9.04058479e-03,  6.19805465e-03,\n",
       "        -6.91292761e-03,  3.40348249e-03,  2.06063982e-04,\n",
       "         4.75374563e-03, -7.11994292e-03,  4.02695406e-03,\n",
       "         4.34743427e-03,  9.95736942e-03, -4.47373977e-03,\n",
       "        -1.38926390e-03, -7.31732138e-03, -9.69782937e-03,\n",
       "        -9.08025727e-03, -1.02275494e-03, -6.50329003e-03,\n",
       "         4.84972820e-03, -6.16402645e-03,  2.51918565e-03,\n",
       "         7.39440904e-04, -3.39215389e-03, -9.79223289e-04,\n",
       "         9.97912511e-03,  9.14588664e-03, -4.46182955e-03,\n",
       "         9.08302702e-03, -5.64176310e-03,  5.93092199e-03,\n",
       "        -3.09721823e-03,  3.43175163e-03,  3.01722647e-03,\n",
       "         6.90046092e-03, -2.37388373e-03,  8.77503678e-03,\n",
       "         7.58942822e-03, -9.54764616e-03, -8.00820906e-03,\n",
       "        -7.63789658e-03,  2.92325742e-03, -2.79472233e-03,\n",
       "        -6.92952052e-03, -8.12826399e-03,  8.30917992e-03,\n",
       "         1.99048873e-03, -9.32801701e-03, -4.79271635e-03,\n",
       "         3.13673844e-03, -4.71320609e-03,  5.28084300e-03,\n",
       "        -4.23344132e-03,  2.64179590e-03, -8.04568734e-03,\n",
       "         6.20988617e-03,  4.81888885e-03,  7.87192606e-04,\n",
       "         3.01344763e-03],\n",
       "       [-8.72748252e-03,  2.13016151e-03, -8.73544195e-04,\n",
       "        -9.31908842e-03, -9.42814257e-03, -1.41071796e-03,\n",
       "         4.43240860e-03,  3.70407104e-03, -6.49869302e-03,\n",
       "        -6.87306747e-03, -4.99941222e-03, -2.28684419e-03,\n",
       "        -7.25028757e-03, -9.60331783e-03, -2.74362927e-03,\n",
       "        -8.36284086e-03, -6.03887578e-03, -5.67092886e-03,\n",
       "        -2.34413752e-03, -1.70699717e-03, -8.95699859e-03,\n",
       "        -7.35199428e-04,  8.15250631e-03,  7.69042969e-03,\n",
       "        -7.20611587e-03, -3.66683118e-03,  3.11855203e-03,\n",
       "        -9.57072247e-03,  1.47643918e-03,  6.52446644e-03,\n",
       "         5.74641954e-03, -8.76306184e-03, -4.51714406e-03,\n",
       "        -8.14016070e-03,  4.59563744e-05,  9.26363375e-03,\n",
       "         5.97330555e-03,  5.06730797e-03,  5.06106252e-03,\n",
       "        -3.24291713e-03,  9.55218356e-03, -7.35642435e-03,\n",
       "        -7.27038737e-03, -2.26538908e-03, -7.78560643e-04,\n",
       "        -3.21610342e-03, -5.92585828e-04,  7.48882303e-03,\n",
       "        -6.97518582e-04, -1.62494066e-03,  2.74439924e-03,\n",
       "        -8.35910067e-03,  7.85580371e-03,  8.53610411e-03,\n",
       "        -9.58408695e-03,  2.44626636e-03,  9.90497135e-03,\n",
       "        -7.66580366e-03, -6.96691871e-03, -7.73651712e-03,\n",
       "         8.39592330e-03, -6.81335921e-04,  9.14440863e-03,\n",
       "        -8.15822091e-03,  3.74308461e-03,  2.63504265e-03,\n",
       "         7.42713222e-04,  2.32767593e-03, -7.46909389e-03,\n",
       "        -9.35837347e-03,  2.35457649e-03,  6.14845520e-03,\n",
       "         7.98568875e-03,  5.73589467e-03, -7.77336361e-04,\n",
       "         8.30616429e-03, -9.33631416e-03,  3.40613257e-03,\n",
       "         2.66753428e-04,  3.85724427e-03,  7.38578336e-03,\n",
       "        -6.72516692e-03,  5.58448071e-03, -9.52222478e-03,\n",
       "        -8.04458861e-04, -8.68873671e-03, -5.09867305e-03,\n",
       "         9.28922649e-03, -1.85826188e-03,  2.91442638e-03,\n",
       "         9.07127932e-03,  8.93813279e-03, -8.20843503e-03,\n",
       "        -3.01231374e-03,  9.88660567e-03,  5.10443095e-03,\n",
       "        -1.58808706e-03, -8.69202148e-03,  2.96151638e-03,\n",
       "        -6.67589763e-03],\n",
       "       [ 8.13227147e-03, -4.45733406e-03, -1.06835726e-03,\n",
       "         1.00636482e-03, -1.91113955e-04,  1.14817743e-03,\n",
       "         6.11386076e-03, -2.02715401e-05, -3.24596534e-03,\n",
       "        -1.51072862e-03,  5.89729892e-03,  1.51410222e-03,\n",
       "        -7.24261976e-04,  9.33324732e-03, -4.92128357e-03,\n",
       "        -8.38409644e-04,  9.17541143e-03,  6.74942741e-03,\n",
       "         1.50285603e-03, -8.88256077e-03,  1.14874600e-03,\n",
       "        -2.28825561e-03,  9.36823711e-03,  1.20992784e-03,\n",
       "         1.49006362e-03,  2.40640994e-03, -1.83600665e-03,\n",
       "        -4.99963388e-03,  2.32429506e-04, -2.01418041e-03,\n",
       "         6.60093315e-03,  8.94012302e-03, -6.74754381e-04,\n",
       "         2.97701475e-03, -6.10765442e-03,  1.69932481e-03,\n",
       "        -6.92623248e-03, -8.69402662e-03, -5.90020278e-03,\n",
       "        -8.95647518e-03,  7.27759488e-03, -5.77203138e-03,\n",
       "         8.27635173e-03, -7.24354526e-03,  3.42167495e-03,\n",
       "         9.67499893e-03, -7.78544787e-03, -9.94505733e-03,\n",
       "        -4.32914635e-03, -2.68313056e-03, -2.71289347e-04,\n",
       "        -8.83155130e-03, -8.61755759e-03,  2.80021061e-03,\n",
       "        -8.20640661e-03, -9.06933658e-03, -2.34046578e-03,\n",
       "        -8.63180775e-03, -7.05664977e-03, -8.40115082e-03,\n",
       "        -3.01328895e-04, -4.56429832e-03,  6.62717456e-03,\n",
       "         1.52716041e-03, -3.34147573e-03,  6.10897178e-03,\n",
       "        -6.01328490e-03, -4.65616956e-03, -7.20750913e-03,\n",
       "        -4.33658017e-03, -1.80932996e-03,  6.48964290e-03,\n",
       "        -2.77039292e-03,  4.91896737e-03,  6.90444233e-03,\n",
       "        -7.46370573e-03,  4.56485013e-03,  6.12697843e-03,\n",
       "        -2.95447465e-03,  6.62502181e-03,  6.12587947e-03,\n",
       "        -6.44348515e-03, -6.76455162e-03,  2.53895880e-03,\n",
       "        -1.62381888e-03, -6.06512791e-03,  9.49920900e-03,\n",
       "        -5.13014663e-03, -6.55409694e-03, -1.19885204e-04,\n",
       "        -2.70142802e-03,  4.44400299e-04, -3.53745813e-03,\n",
       "        -4.19330609e-04, -7.08615757e-04,  8.22820642e-04,\n",
       "         8.19481723e-03, -5.73670724e-03, -1.65952800e-03,\n",
       "         5.57160750e-03]], dtype=float32)"
      ]
     },
     "execution_count": 38,
     "metadata": {},
     "output_type": "execute_result"
    }
   ],
   "source": [
    "vectors"
   ]
  },
  {
   "cell_type": "code",
   "execution_count": null,
   "metadata": {},
   "outputs": [],
   "source": []
  },
  {
   "cell_type": "code",
   "execution_count": 5,
   "metadata": {},
   "outputs": [],
   "source": [
    "def mergeAlternately(word1: str, word2: str) -> str:\n",
    "        min_pointer = min(len(word1), len(word2))\n",
    "        long_word = max(word1, word2)\n",
    "        pointer = 0\n",
    "        new_string = \"\"\n",
    "        \n",
    "        while pointer < min_pointer :\n",
    "            new_string += word1[pointer]\n",
    "            new_string += word2[pointer]\n",
    "            pointer +=1\n",
    "        \n",
    "        new_string += long_word[pointer: ]\n",
    "    \n",
    "        return new_string"
   ]
  },
  {
   "cell_type": "code",
   "execution_count": 8,
   "metadata": {},
   "outputs": [],
   "source": [
    "word2 = \"abcd\"\n",
    "word1 = \"pq\""
   ]
  },
  {
   "cell_type": "code",
   "execution_count": 9,
   "metadata": {},
   "outputs": [
    {
     "data": {
      "text/plain": [
       "'paqb'"
      ]
     },
     "execution_count": 9,
     "metadata": {},
     "output_type": "execute_result"
    }
   ],
   "source": [
    "mergeAlternately(word1, word2)"
   ]
  },
  {
   "cell_type": "code",
   "execution_count": 10,
   "metadata": {},
   "outputs": [
    {
     "data": {
      "text/plain": [
       "'pq'"
      ]
     },
     "execution_count": 10,
     "metadata": {},
     "output_type": "execute_result"
    }
   ],
   "source": [
    "max ( word2, word1)"
   ]
  },
  {
   "cell_type": "code",
   "execution_count": null,
   "metadata": {},
   "outputs": [],
   "source": []
  }
 ],
 "metadata": {
  "kernelspec": {
   "display_name": ".venv",
   "language": "python",
   "name": "python3"
  },
  "language_info": {
   "codemirror_mode": {
    "name": "ipython",
    "version": 3
   },
   "file_extension": ".py",
   "mimetype": "text/x-python",
   "name": "python",
   "nbconvert_exporter": "python",
   "pygments_lexer": "ipython3",
   "version": "3.9.13"
  },
  "orig_nbformat": 4
 },
 "nbformat": 4,
 "nbformat_minor": 2
}
